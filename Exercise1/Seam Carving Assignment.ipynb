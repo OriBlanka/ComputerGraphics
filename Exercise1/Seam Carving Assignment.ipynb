{
 "cells": [
  {
   "attachments": {},
   "cell_type": "markdown",
   "id": "03667782",
   "metadata": {},
   "source": [
    "# Exercise 1\n",
    "\n",
    "As discussed in Section 1, resizing and rescaling digital images are not trivial operations. There are many ways to resize an image, and one of them is Seam Carving.\n",
    "\n",
    "The advantage of this method is the content awareness, which enables resizing images while preserving their visual and semantic features.\n",
    "\n",
    "In this exercise you will:\n",
    "1. Apply image processing operations as preliminares for later\n",
    "2. Implement the \"Column Vertical\" version of Seam Carving (restricted to columns only)\n",
    "3. Original Seam Carving as taught in lecture ([original Seam Carving paper](https://faculty.runi.ac.il/arik/scweb/imret/imret.pdf))\n",
    "4. Compare the two methods in addition to bilinear scaling (no need to implement)\n",
    "\n",
    "\n",
    "Instructions:\n",
    "* The notebook is just for displaying your implementation, **do not change code in it**. Changing it might cause failiure of our grading unit tests. If you want to change minor things, make sure the original one still runs and dispay results.\n",
    "* In `utils.py` we created a template to `SeamImage`,`ColumnSeamImage` and the `VerticalSeamImage` class which you will be implementing. Note that if a function does not raise a \"NotImplemented exception, it is not mandatory to implement, it is just a suggestion.\n",
    "* `SeamImage` class is the parent class of the second two. It implements the common functionalities both methods share (the class attributes may help you to manage the metadata of the algorithms).\n",
    "* `SeamImage` takes an image path and:\n",
    "    - Loads an RGB image of the original shape\n",
    "    - Creates a weighted grayscale image and stores it\n",
    "    - Defines and stores all the required metadata for the Seam Carving algorithm\n",
    " \n",
    "* `ColumnSeamImage` inherits from `SeamImage`. Its purpose is to:\n",
    "    - Apply Column Seam Carving algorithm (support vertical and horizontal)\n",
    "    - Track removed seam and later be able to visualize them\n",
    "\n",
    "* `VerticalSeamImage` also inherits for `SeamImage`. Its purpose is to:\n",
    "    - Apply Vertical Seam Carving algorithm (support vertical and horizontal)\n",
    "    - Track removed seam and later be able to visualize them\n",
    "\n",
    "* Both methods should implement the **forward-looking** cost matrix $M$\n",
    "* To get full credit, **you are expected to implement the following as efficient as possible**, and get similar runtime as we report below\n",
    "* **Tip**: In order to apply changes from outsides modules into `ipynb` files, restarting the notebook is required. To provet this, we recommend you to copy here the code and later test in from outside\n",
    "* When submitting, the notebook must run end to end without any exception raised\n",
    "* Submission format: **ex01_STUDENT1-ID_STUDENT2-ID.zip** containing `Seam Carving Assignment.ipynb` (all cells executed from start to end) and your completed `utils.py`\n",
    "* Feel free to ask questions on Piazza. We highly encourage you to answer questions!\n",
    "\n",
    " ---"
   ]
  },
  {
   "cell_type": "markdown",
   "id": "a4da0be8",
   "metadata": {},
   "source": [
    "Please run the following (install libs if needed) "
   ]
  },
  {
   "cell_type": "code",
   "execution_count": null,
   "id": "a6e68eac",
   "metadata": {},
   "outputs": [],
   "source": [
    "import numba\n",
    "import numpy as np\n",
    "import matplotlib.pyplot as plt\n",
    "from functools import partial\n",
    "from PIL import Image\n",
    "from numba import jit\n",
    "from utils import SeamImage, ColumnSeamImage, VerticalSeamImage\n",
    "\n",
    "plt.rcParams[\"figure.figsize\"] = (10,5)"
   ]
  },
  {
   "cell_type": "code",
   "execution_count": null,
   "id": "f6bfe9e1",
   "metadata": {},
   "outputs": [],
   "source": [
    "# img_path = \"pinguins.jpg\"\n",
    "img_path = \"sunset.jpg\"\n",
    "\n",
    "# helper functions\n",
    "def read_image(img_path):\n",
    "    return np.asarray(Image.open(img_path)).astype('float32')\n",
    "\n",
    "\n",
    "def show_image(np_img, grayscale=False):\n",
    "    fig, ax = plt.subplots()\n",
    "    if not grayscale:\n",
    "        ax.imshow(np_img)\n",
    "    else:\n",
    "        ax.imshow(np_img, cmap=plt.get_cmap('gray'))\n",
    "    ax.axis(\"off\")\n",
    "    plt.show()\n",
    "\n",
    "def init_plt_grid(nrow=1, ncols=1, figsize=(20,10), **kwargs):\n",
    "    fig, ax = plt.subplots(nrow, ncols, figsize=figsize, facecolor='gray', **kwargs)\n",
    "    font_size = dict(size=20)\n",
    "    return ax, font_size\n"
   ]
  },
  {
   "cell_type": "markdown",
   "id": "c742ec90",
   "metadata": {},
   "source": [
    "* * *"
   ]
  },
  {
   "cell_type": "markdown",
   "id": "1d8daa72",
   "metadata": {},
   "source": [
    "### 1. Imaplement SeamImage (20 points)"
   ]
  },
  {
   "cell_type": "code",
   "execution_count": null,
   "id": "0dce18ba",
   "metadata": {},
   "outputs": [],
   "source": [
    "# TODO: Create a SeamImage instance\n",
    "s_img = SeamImage(img_path)"
   ]
  },
  {
   "cell_type": "code",
   "execution_count": null,
   "id": "42ec6bd4",
   "metadata": {},
   "outputs": [],
   "source": [
    "# display sample image we will be working on\n",
    "show_image(s_img.rgb)"
   ]
  },
  {
   "cell_type": "code",
   "execution_count": null,
   "id": "7613833b",
   "metadata": {},
   "outputs": [],
   "source": [
    "# disply grayscale version\n",
    "show_image(s_img.gs, grayscale=True)"
   ]
  },
  {
   "cell_type": "code",
   "execution_count": null,
   "id": "7d17e8cd",
   "metadata": {},
   "outputs": [],
   "source": [
    "# display its energy (gradient magnitude)\n",
    "show_image(s_img.E, grayscale=True)"
   ]
  },
  {
   "attachments": {},
   "cell_type": "markdown",
   "id": "aa84d3bd",
   "metadata": {},
   "source": [
    "### 2. Implement ColumnSeamImage class (30 points)\n",
    "\n",
    "ColumnSeamImage stores an image, and applies Column Vertical Seam Carving. \\\n",
    "This also stores meta data such as: grayscale version, gradient magnitude map, boolean masks indicating if a seam removed or not, resized versions etc.\n",
    "Note that also ColumnSeamImage should support horizontal seam carving, but a simple wrapper function should do the trick...\n"
   ]
  },
  {
   "attachments": {},
   "cell_type": "markdown",
   "id": "efec3c14",
   "metadata": {},
   "source": [
    "Guidlines:\n",
    "* Implement the Energy matrix $M$ as guided\n",
    "* `ColumnSeamImage.seams_removal_horizontal` and `ColumnSeamImage.seams_removal_horizontal` are wrappers to `ColumnSeamImage.seams_removal` which is the main method where all the megic happens. This process includes:\n",
    "    * Gradient magnitude of each pixel of self.gs (= self.E)\n",
    "    * Calculating pixel enrgry as taught, but with certain terms ommited (= self.M)\n",
    "    * iterate for *num_remove* times d:\n",
    "        * Find the minimal seam\n",
    "        * Remove and update the actual seam from all metadata matruces\n",
    "        * Update $E$ and $M$. *Note: you are requested to **update** and not recalculate them each time.*\n",
    "* You are expected to report similiar runtime as our implementations"
   ]
  },
  {
   "cell_type": "code",
   "execution_count": null,
   "id": "44696233",
   "metadata": {},
   "outputs": [],
   "source": [
    "# TODO: Create a ColumnSeamImage instance\n",
    "cs_img = ColumnSeamImage(img_path)"
   ]
  },
  {
   "cell_type": "code",
   "execution_count": null,
   "id": "665555f6",
   "metadata": {},
   "outputs": [],
   "source": [
    "# dispay matrices\n",
    "\n",
    "ax, font_size = init_plt_grid(ncols=3, figsize=(20,10))\n",
    "\n",
    "ax[0].set_title('Original Image', **font_size)\n",
    "ax[1].set_title('Gradient Magnitude Image (E)', **font_size)\n",
    "ax[2].set_title('Energy Matric (M)', **font_size)\n",
    "\n",
    "ax[0].imshow(cs_img.rgb)\n",
    "ax[1].imshow(cs_img.E, cmap='gray')\n",
    "ax[2].imshow(cs_img.M)\n",
    "\n",
    "# dp_mat = vs_img.calc_dp_mat(vs_img.M.copy(), np.zeros_like(vs_img.M, dtype=int))\n",
    "# ax[1,1].imshow(dp_mat)\n",
    "\n",
    "for sp in ax.reshape(-1):\n",
    "    sp.set_xticks([])\n",
    "    sp.set_yticks([])\n",
    "\n",
    "plt.tight_layout()\n"
   ]
  },
  {
   "cell_type": "code",
   "execution_count": null,
   "id": "18af276c",
   "metadata": {},
   "outputs": [],
   "source": [
    "# remove seams (modify as you with)\n",
    "%time cs_img.seams_removal_vertical(70)\n",
    "%time cs_img.seams_removal_horizontal(110)"
   ]
  },
  {
   "cell_type": "code",
   "execution_count": null,
   "id": "23ffe31f",
   "metadata": {},
   "outputs": [],
   "source": [
    "# display resulting images\n",
    "\n",
    "ax, font_size = init_plt_grid(ncols=3, figsize=(20,10))\n",
    "\n",
    "ax[0].set_title('Original Image', **font_size)\n",
    "ax[1].set_title('Seam Visualization', **font_size)\n",
    "ax[2].set_title('Resized Image', **font_size)\n",
    "\n",
    "ax[0].imshow(cs_img.rgb)\n",
    "ax[1].imshow(cs_img.seams_rgb)\n",
    "ax[2].imshow(cs_img.resized_rgb)\n",
    "\n",
    "# save resized version\n",
    "Image.fromarray((cs_img.resized_rgb*255).astype('uint8')).save('./resized_rgb.jpg')\n",
    "\n",
    "for sp in ax.reshape(-1):\n",
    "    sp.set_xticks([])\n",
    "    sp.set_yticks([])\n",
    "\n",
    "plt.tight_layout()"
   ]
  },
  {
   "attachments": {},
   "cell_type": "markdown",
   "id": "a2d834eb",
   "metadata": {},
   "source": [
    "### TODO: Implement VerticalSeamImage class (40 points)\n",
    "\n",
    "VerticalSeamImage stores an image, and applies vertical Seam Carving. \\\n",
    "This also stores meta data such as: grayscale version, gradient magnitude map, boolean masks indicating if a seam is removed or not, resized versions etc.\n",
    "Same as above, this class also should support horizontal seam carving.\n",
    "\n",
    "\n",
    "Guidelines:\n",
    "* Implement the Energy matrix $M$ as guided\n",
    "* `VerticalSeamImage.seams_removal_horizontal` and `VerticalSeamImage.seams_removal_horizontal` are wrappers to `VerticalSeamImage.seams_removal` which is the main method where all the magic happens. This process includes:\n",
    "    * Gradient magnitude of each pixel of self.gs (= self.E)\n",
    "    * Calculating pixel energy as taught, but with certain terms omitted (= self.M)\n",
    "    * iterate for *num_remove* times d:\n",
    "        * Calculate $E$ and $M$ (self.E, self.M respectively)\n",
    "        * Calculate the dynamic programming matrix\n",
    "        * Find the minimal seam\n",
    "        * Remove and update the seam from all metadata matrices\n",
    "* You are expected to report similar runtime as our implementations\n",
    "        \n",
    "*Important: In order to get reasonable runtime, use the Numba decorator by uncommenting `@jit(nopython=True)` above `VerticalSeamImage.calc_dp_mat`*"
   ]
  },
  {
   "cell_type": "code",
   "execution_count": null,
   "id": "041ee379",
   "metadata": {},
   "outputs": [],
   "source": [
    "# TODO: Create a VerticalSeamImage class\n",
    "vs_img = VerticalSeamImage(img_path)"
   ]
  },
  {
   "cell_type": "code",
   "execution_count": null,
   "id": "27a97888",
   "metadata": {},
   "outputs": [],
   "source": [
    "# dispay matrices\n",
    "\n",
    "ax, font_size = init_plt_grid(ncols=3)\n",
    "\n",
    "ax[0].set_title('Original Image', **font_size)\n",
    "ax[1].set_title('Gradient Magnitude Image (E)', **font_size)\n",
    "ax[2].set_title('Cost Matrix (M)', **font_size)\n",
    "\n",
    "ax[0].imshow(vs_img.rgb)\n",
    "ax[1].imshow(vs_img.E, cmap='gray')\n",
    "ax[2].imshow(vs_img.M)\n",
    "\n",
    "for sp in ax.reshape(-1):\n",
    "    sp.set_xticks([])\n",
    "    sp.set_yticks([])\n",
    "\n",
    "plt.tight_layout()"
   ]
  },
  {
   "cell_type": "code",
   "execution_count": null,
   "id": "1a4d079e",
   "metadata": {
    "scrolled": true
   },
   "outputs": [],
   "source": [
    "# remove seams (modify as you with)\n",
    "%time vs_img.seams_removal_vertical(70)\n",
    "%time vs_img.seams_removal_horizontal(110)"
   ]
  },
  {
   "cell_type": "code",
   "execution_count": null,
   "id": "d16431a6",
   "metadata": {},
   "outputs": [],
   "source": [
    "# display resulting images\n",
    "\n",
    "ax, font_size = init_plt_grid(ncols=3, figsize=(20,10))\n",
    "\n",
    "ax[0].set_title('Original Image', **font_size)\n",
    "ax[1].set_title('Seam Visualization', **font_size)\n",
    "ax[2].set_title('Resized Image', **font_size)\n",
    "\n",
    "ax[0].imshow(vs_img.rgb)\n",
    "ax[1].imshow(vs_img.seams_rgb)\n",
    "ax[2].imshow(vs_img.resized_rgb)\n",
    "\n",
    "# save resized version\n",
    "Image.fromarray((vs_img.resized_rgb*255).astype('uint8')).save('./resized_rgb.jpg')\n",
    "\n",
    "for sp in ax.reshape(-1):\n",
    "    sp.set_xticks([])\n",
    "    sp.set_yticks([])\n",
    "\n",
    "plt.tight_layout()"
   ]
  },
  {
   "cell_type": "code",
   "execution_count": null,
   "id": "06c3c54f",
   "metadata": {},
   "outputs": [],
   "source": [
    "# Resluts comparison\n",
    "\n",
    "ax, font_size = init_plt_grid(2, 2, figsize=(12,12))\n",
    "\n",
    "ax[0,0].set_title('SV-SC - Seams', **font_size)\n",
    "ax[1,0].set_title('V-SC - Seams', **font_size)\n",
    "ax[0,1].set_title('SV-SC - Resized', **font_size)\n",
    "ax[1,1].set_title('V-SC - Resized', **font_size)\n",
    "\n",
    "ax[0,0].imshow(cs_img.seams_rgb)\n",
    "ax[1,0].imshow(vs_img.seams_rgb)\n",
    "ax[0,1].imshow(cs_img.resized_rgb)\n",
    "ax[1,1].imshow(vs_img.resized_rgb)\n",
    "\n",
    "for sp in ax.reshape(-1):\n",
    "    sp.set_xticks([])\n",
    "    sp.set_yticks([])\n",
    "\n",
    "plt.tight_layout()"
   ]
  },
  {
   "attachments": {},
   "cell_type": "markdown",
   "id": "46540329",
   "metadata": {},
   "source": [
    "#### Bonus: Enlarging images (8 points)\n",
    "As discussed in the unit, seam's \"importance\" can be also used to enlarge images, simply duplicating the least important seam every time.\n",
    "\n",
    "Implement `VerticalSeamImage.seams_addition`:\n",
    "* You may use wrapper functions for vertical/horizontal (same as in the removal process)\n",
    "* Paint the added seams in green\n",
    "* To get full bonus credit, use the 'palawan.jpg' example and plot the visualization after: i) adding 50 vertical seams. ii) adding 50 horizontal seams"
   ]
  },
  {
   "cell_type": "code",
   "execution_count": null,
   "id": "3151c549",
   "metadata": {},
   "outputs": [],
   "source": [
    "vs_img.reinit()\n",
    "try:\n",
    "    vs_img.seams_addition_vertical(50)\n",
    "except NotImplementedError as e:\n",
    "    print(e)\n",
    "try:\n",
    "    vs_img.seams_addition_horizontal(50)\n",
    "except NotImplementedError as e:\n",
    "    print(e)"
   ]
  },
  {
   "cell_type": "markdown",
   "id": "2ea3fc71",
   "metadata": {},
   "source": [
    "### Method Comparison and Recaling (10 points)\n",
    "\n",
    "In this final section you will be comparing the two methods with bilinear interpolation (a rescaling algorithm, implemented for you)."
   ]
  },
  {
   "cell_type": "code",
   "execution_count": null,
   "id": "79c394e2",
   "metadata": {},
   "outputs": [],
   "source": [
    "from utils import bilinear"
   ]
  },
  {
   "cell_type": "code",
   "execution_count": null,
   "id": "ddc52764",
   "metadata": {},
   "outputs": [],
   "source": [
    "img_path = 'palawan2.jpg'\n",
    "\n",
    "img = read_image(img_path)\n",
    "scale_factors = [[.6, 1.], [1., .6]] # -> scale_factors[i,0] for height and scale_factors[i,1] for width\n",
    "show_image(img.astype('int'));"
   ]
  },
  {
   "cell_type": "code",
   "execution_count": null,
   "id": "75e8f9e0",
   "metadata": {},
   "outputs": [],
   "source": [
    "aspect_ratio = img.shape[1] / img.shape[0] # -> claculate the image AR\n",
    "print('Aspect ratio:', aspect_ratio)"
   ]
  },
  {
   "attachments": {},
   "cell_type": "markdown",
   "id": "a461a824",
   "metadata": {},
   "source": [
    "#### TODO: Implement `scale_to_shape` and `resize_seam_carving` (5 + 5 points)\n",
    "* `scale_to_shape` takes an image shape (y,x) and $f_y,f_x$ scale factors and returns the new image shape.\n",
    "* `resize_seam_carving` takes a SeamImage instance along with the new shape and applies the resize."
   ]
  },
  {
   "cell_type": "code",
   "execution_count": null,
   "id": "948bdb38",
   "metadata": {},
   "outputs": [],
   "source": [
    "from utils import scale_to_shape, resize_seam_carving"
   ]
  },
  {
   "cell_type": "code",
   "execution_count": null,
   "id": "50a394a1",
   "metadata": {},
   "outputs": [],
   "source": [
    "data = {}\n",
    "cs_img = ColumnSeamImage(img_path)\n",
    "vs_img = VerticalSeamImage(img_path)\n",
    "\n",
    "for s in scale_factors:\n",
    "    orig_shape = np.asarray(img.shape[:-1])\n",
    "    new_shape = scale_to_shape(orig_shape, s)\n",
    "    bi_resized_rgb = bilinear(img, new_shape)\n",
    "    cs_resized_rgb = resize_seam_carving(cs_img, (orig_shape, new_shape))\n",
    "    vs_resized_rgb = resize_seam_carving(vs_img, (orig_shape, new_shape))\n",
    "    data[str(s)] = (bi_resized_rgb, cs_resized_rgb, vs_resized_rgb)"
   ]
  },
  {
   "cell_type": "code",
   "execution_count": null,
   "id": "65c9912a",
   "metadata": {},
   "outputs": [],
   "source": [
    "# Resluts comparison\n",
    "\n",
    "ax, font_size = init_plt_grid(4, 2, figsize=(20,15))\n",
    "\n",
    "\n",
    "ax[0,0].set_title(f'Scale Factor {scale_factors[0]}', **font_size)\n",
    "ax[0,1].set_title(f'Scale Factor {scale_factors[1]}', **font_size)\n",
    "\n",
    "ax[0,0].set_ylabel('Original', **font_size)\n",
    "ax[1,0].set_ylabel('Bilinear Interp.', **font_size)\n",
    "ax[2,0].set_ylabel('C-SC', **font_size)\n",
    "ax[3,0].set_ylabel('V-SC', **font_size)\n",
    "\n",
    "\n",
    "ax[0,0].imshow(img.astype('uint'))\n",
    "ax[1,0].imshow(data[str(scale_factors[0])][0])\n",
    "ax[2,0].imshow(data[str(scale_factors[0])][1])\n",
    "ax[3,0].imshow(data[str(scale_factors[0])][2])\n",
    "\n",
    "ax[0,1].imshow(img.astype('uint'))\n",
    "ax[1,1].imshow(data[str(scale_factors[1])][0])\n",
    "ax[2,1].imshow(data[str(scale_factors[1])][1])\n",
    "ax[3,1].imshow(data[str(scale_factors[1])][2])\n",
    "\n",
    "\n",
    "for sp in ax.reshape(-1):\n",
    "    sp.set_xticks([])\n",
    "    sp.set_yticks([])\n",
    "\n",
    "plt.tight_layout()\n"
   ]
  },
  {
   "attachments": {},
   "cell_type": "markdown",
   "id": "fc21eb64",
   "metadata": {},
   "source": [
    "### Discussion and Conclution\n",
    "\n",
    "##### Discussion\n",
    "* DP matrices: pay attention to the DP matrices you calculated. They should be give an intuition of the correcness of your implemetions.\n",
    "* Seam Visualization: There are two noticible phenomanons when looking at them: i) Some seams might not be complete (side to side). Why is it? which of the seams is it likely to occur? ii) The chosen seams tend to avoid \"important\" content (look at the dices, the class etc,. Is it a positive characteristic?\n",
    "* Rescaling and resizing: It can bee seen that Resizing images preserves geometry of objects, which emphisizes the adavantages of the conext-awareness of Seam Carving. On the other hand, rescaling modifies existing image pixels and thus might affect its content.\n",
    "\n",
    "##### Conclution\n",
    "* We have implemented two versions of the Seam Carving algorithms\n",
    "* We have comared the two and discussed their down/up sides\n",
    "* This implementation can be extended into some possible directions:\n",
    "    * Enlarging images\n",
    "    * Remove certain object as the user desires\n",
    "    \n",
    "<!-- *Spoiler*: The image you were working with in this assigment is **not real**. It has been rendered by a graphics engine using an algorithm named **Ray Tracing**. The will be discussed later in the course. -->\n",
    "\n",
    "**Good Luck!**\n"
   ]
  }
 ],
 "metadata": {
  "kernelspec": {
   "display_name": "Python 3 (ipykernel)",
   "language": "python",
   "name": "python3"
  },
  "language_info": {
   "codemirror_mode": {
    "name": "ipython",
    "version": 3
   },
   "file_extension": ".py",
   "mimetype": "text/x-python",
   "name": "python",
   "nbconvert_exporter": "python",
   "pygments_lexer": "ipython3",
   "version": "3.9.7"
  },
  "vscode": {
   "interpreter": {
    "hash": "cb828da50222ff93d30a68bfefad70e4f83780e250dd9723bf01dd54fa865d46"
   }
  }
 },
 "nbformat": 4,
 "nbformat_minor": 5
}
