{
 "cells": [
  {
   "attachments": {},
   "cell_type": "markdown",
   "metadata": {
    "id": "GEn9K882F5Dt"
   },
   "source": [
    "# Overview\n",
    "Ray Rracing is a technique for generating an image by tracing the path of light through pixels in an image plane and simulating the effects of its encounters with virtual objects.\n",
    "\n",
    "The technique is capable of producing a very high degree of visual realism, usually higher than that of typical scanline rendering methods, but at a greater computational cost.\n",
    "\n",
    "The objective of this exercise is to implement a ray casting/tracing engine. A ray tracer shoots rays from the observer’s eye through a screen and into a scene of objects. It calculates the ray’s intersection with the objects, finds the nearest intersection and calculates the color of the surface according to its material and lighting conditions. _(This is the way you should think about it –\n",
    "this will help in your implementation)._"
   ]
  },
  {
   "attachments": {},
   "cell_type": "markdown",
   "metadata": {
    "id": "ngS-Xq3TGZvQ"
   },
   "source": [
    "## Grading\n",
    "- Pinhole Camera (10 points)\n",
    "- Display geometric primitives in space:\n",
    " - Rectangles (10 points)\n",
    " - Cuboid (10 points)\n",
    " - Spheres (10 points)\n",
    "- Basic lighting\n",
    "  - Ambient light (5 points)\n",
    "  - Directional Light source (10 Points)\n",
    "  - Spotlight (10 points)\n",
    "  - Simple materials (ambient, diffuse, specular...) (10 points)\n",
    "- Basic hard shadows (10 points)\n",
    "- Reflecting surfaces (15 points)\n",
    "- Create a scene of your own (10 points) with the instructions below – Be creative! Well thought-of scenes may get bonus points 😉\n",
    "- Refracting surfaces (5 points **bonus**)"
   ]
  },
  {
   "attachments": {},
   "cell_type": "markdown",
   "metadata": {
    "id": "yUz2L4rlH1TQ"
   },
   "source": [
    "## Guidelines\n",
    "\n",
    "- We provided you with some framework for you to work with - take adventage of the methods we implemented for you.\n",
    "- While you do not have to implement everything using our suggested helper methods, we are expecting that all the methods that are used in this example notebook will be implemented, and this will also allow you to test your code.\n",
    "- You may (and sometimes MUST) add parameters and arguments to methods and classes.\n",
    "- You may change and even overwrite other helper_classes.py classes and functions. However, you may find it easier to use it instead of going against it.\n",
    "- You are highly recommended to write a lot of helper functions in hw3. For example: Finding the closest object, Computing the color for a single light source, etc.\n",
    "- You may **not** change:\n",
    "     - base classes *LightSource* and *Object3D*\n",
    "     - arguments for the *render_scene* and *your_own_scene* functions.\n",
    "     - code written for you in this notebook.\n",
    "- You don't need to restart the notebook for every change in your code - just run the code snippet below before you start running any code in the notebook."
   ]
  },
  {
   "attachments": {},
   "cell_type": "markdown",
   "metadata": {},
   "source": [
    "## Tips & Guidelines\n",
    "\n",
    "- All light sources and 3D objects have similar functions and arguments in order to make your life easier while rendering. It doesn't mean you need to use all the arguments in every situation\n",
    "- There is a difference between how you treat every 3D Objects. You can differentiate of which class is each object with *isinstance()*\n",
    "- With barycentric coordinates test, you may want to use some epsilon as we are working with float values.\n",
    "- Using the exact intersection point may lead to bugs. After finding an intersection, choose a close point that is above the intersection point (Think - How can I shift a point \"above\" the surface? what is the direction?)\n",
    "- When testing, use lower rendering resultion (say $64\\times 64$) to save you time"
   ]
  },
  {
   "cell_type": "markdown",
   "metadata": {
    "id": "HCGZy9xfUYLK"
   },
   "source": [
    "# Scene Examples\n",
    "\n",
    "We provided you with some ready scenes to validate your answers. The scenes are in an increasing implementation levels, so we recommend you to implement the code according to the scenes."
   ]
  },
  {
   "cell_type": "code",
   "execution_count": 1,
   "metadata": {
    "ExecuteTime": {
     "start_time": "2023-05-13T08:44:35.853457Z",
     "end_time": "2023-05-13T08:44:35.889967Z"
    }
   },
   "outputs": [],
   "source": [
    "# This small code snippet will allow you to change your python file without resetting the kernel\n",
    "\n",
    "%load_ext autoreload\n",
    "%autoreload 2"
   ]
  },
  {
   "cell_type": "markdown",
   "metadata": {
    "id": "JujmyDnzVjzw"
   },
   "source": [
    "## Scene 1: Hello Ray Tracing!\n",
    "\n",
    "In this scene we render three planes with different colors. You can test this scene to check if your camera and colors are working correctly.\n",
    "\n",
    "![](scenes/scene1.png)"
   ]
  },
  {
   "cell_type": "code",
   "execution_count": 2,
   "metadata": {
    "id": "wC4SfjF-Vi2w",
    "ExecuteTime": {
     "start_time": "2023-05-13T08:44:35.892467Z",
     "end_time": "2023-05-13T08:44:37.129111Z"
    }
   },
   "outputs": [
    {
     "data": {
      "text/plain": "<Figure size 640x480 with 1 Axes>",
      "image/png": "[encoded data removed]"
     },
     "metadata": {},
     "output_type": "display_data"
    }
   ],
   "source": [
    "from hw3 import *\n",
    "\n",
    "plane_a = Plane([0,1,0],[0,-1,0])\n",
    "plane_a.set_material([0.3, 0.5, 1], [0.3, 0.5, 1], [1, 1, 1], 100, 0.5)\n",
    "plane_b = Plane([0,0,1], [0,0,-3])\n",
    "plane_b.set_material([0, 0.5, 0], [0, 1, 0], [1, 1, 1], 100, 0.5)\n",
    "\n",
    "\n",
    "objects = [plane_a, plane_b]\n",
    "\n",
    "light = PointLight(intensity= np.array([1, 1, 1]),position=np.array([1,1,1]),kc=0.1,kl=0.1,kq=0.1)\n",
    "\n",
    "lights = [light]\n",
    "\n",
    "ambient = np.array([0.1,0.1,0.1])\n",
    "\n",
    "camera = np.array([0,0,1])\n",
    "\n",
    "im = render_scene(camera, ambient, lights, objects, (256,256), 1)\n",
    "plt.imshow(im)\n",
    "plt.imsave('scene1.png', im)"
   ]
  },
  {
   "attachments": {},
   "cell_type": "markdown",
   "metadata": {},
   "source": [
    "## Scene 2 - Squres and Shadows\n",
    "\n",
    "This scene adds a single rectangle on the background of a plane. Because of it's position, it will also cast shadow on the plane.\n",
    "The lighting is Directional\n",
    "\n",
    "![](scenes/scene2.png)"
   ]
  },
  {
   "cell_type": "code",
   "execution_count": 3,
   "metadata": {},
   "outputs": [
    {
     "ename": "TypeError",
     "evalue": "array() missing required argument 'object' (pos 0)",
     "output_type": "error",
     "traceback": [
      "\u001B[1;31m---------------------------------------------------------------------------\u001B[0m",
      "\u001B[1;31mTypeError\u001B[0m                                 Traceback (most recent call last)",
      "Cell \u001B[1;32mIn[3], line 3\u001B[0m\n\u001B[0;32m      1\u001B[0m \u001B[38;5;28;01mfrom\u001B[39;00m \u001B[38;5;21;01mhw3\u001B[39;00m \u001B[38;5;28;01mimport\u001B[39;00m \u001B[38;5;241m*\u001B[39m\n\u001B[1;32m----> 3\u001B[0m rectangle \u001B[38;5;241m=\u001B[39m \u001B[43mRectangle\u001B[49m\u001B[43m(\u001B[49m\u001B[43m[\u001B[49m\u001B[38;5;241;43m0\u001B[39;49m\u001B[43m,\u001B[49m\u001B[38;5;241;43m1\u001B[39;49m\u001B[43m,\u001B[49m\u001B[38;5;241;43m-\u001B[39;49m\u001B[38;5;241;43m1\u001B[39;49m\u001B[43m]\u001B[49m\u001B[43m,\u001B[49m\u001B[43m[\u001B[49m\u001B[38;5;241;43m0\u001B[39;49m\u001B[43m,\u001B[49m\u001B[38;5;241;43m-\u001B[39;49m\u001B[38;5;241;43m1\u001B[39;49m\u001B[43m,\u001B[49m\u001B[38;5;241;43m-\u001B[39;49m\u001B[38;5;241;43m1\u001B[39;49m\u001B[43m]\u001B[49m\u001B[43m,\u001B[49m\u001B[43m[\u001B[49m\u001B[38;5;241;43m2\u001B[39;49m\u001B[43m,\u001B[49m\u001B[38;5;241;43m-\u001B[39;49m\u001B[38;5;241;43m1\u001B[39;49m\u001B[43m,\u001B[49m\u001B[38;5;241;43m-\u001B[39;49m\u001B[38;5;241;43m2\u001B[39;49m\u001B[43m]\u001B[49m\u001B[43m,\u001B[49m\u001B[43m[\u001B[49m\u001B[38;5;241;43m2\u001B[39;49m\u001B[43m,\u001B[49m\u001B[38;5;241;43m1\u001B[39;49m\u001B[43m,\u001B[49m\u001B[38;5;241;43m-\u001B[39;49m\u001B[38;5;241;43m2\u001B[39;49m\u001B[43m]\u001B[49m\u001B[43m)\u001B[49m\n\u001B[0;32m      4\u001B[0m rectangle\u001B[38;5;241m.\u001B[39mset_material([\u001B[38;5;241m1\u001B[39m, \u001B[38;5;241m0\u001B[39m, \u001B[38;5;241m0\u001B[39m], [\u001B[38;5;241m1\u001B[39m, \u001B[38;5;241m0\u001B[39m, \u001B[38;5;241m0\u001B[39m], [\u001B[38;5;241m0\u001B[39m, \u001B[38;5;241m0\u001B[39m, \u001B[38;5;241m0\u001B[39m], \u001B[38;5;241m100\u001B[39m, \u001B[38;5;241m0.5\u001B[39m)\n\u001B[0;32m      5\u001B[0m plane \u001B[38;5;241m=\u001B[39m Plane([\u001B[38;5;241m0\u001B[39m,\u001B[38;5;241m0\u001B[39m,\u001B[38;5;241m1\u001B[39m], [\u001B[38;5;241m0\u001B[39m,\u001B[38;5;241m0\u001B[39m,\u001B[38;5;241m-\u001B[39m\u001B[38;5;241m3\u001B[39m])\n",
      "File \u001B[1;32m~\\OneDrive\\Work Folder\\Ori-Studies\\forth_year\\Computer graphic\\ComputerGraphics\\Exercise3\\helper_classes.py:142\u001B[0m, in \u001B[0;36mRectangle.__init__\u001B[1;34m(self, a, b, c, d)\u001B[0m\n\u001B[0;32m    138\u001B[0m \u001B[38;5;124;03m\"\"\"\u001B[39;00m\n\u001B[0;32m    139\u001B[0m \u001B[38;5;124;03m    ul -> bl -> br -> ur\u001B[39;00m\n\u001B[0;32m    140\u001B[0m \u001B[38;5;124;03m\"\"\"\u001B[39;00m\n\u001B[0;32m    141\u001B[0m \u001B[38;5;28mself\u001B[39m\u001B[38;5;241m.\u001B[39mabcd \u001B[38;5;241m=\u001B[39m [np\u001B[38;5;241m.\u001B[39masarray(v) \u001B[38;5;28;01mfor\u001B[39;00m v \u001B[38;5;129;01min\u001B[39;00m [a, b, c, d]]\n\u001B[1;32m--> 142\u001B[0m \u001B[38;5;28mself\u001B[39m\u001B[38;5;241m.\u001B[39mnormal \u001B[38;5;241m=\u001B[39m \u001B[38;5;28;43mself\u001B[39;49m\u001B[38;5;241;43m.\u001B[39;49m\u001B[43mcompute_normal\u001B[49m\u001B[43m(\u001B[49m\u001B[43m)\u001B[49m\n",
      "File \u001B[1;32m~\\OneDrive\\Work Folder\\Ori-Studies\\forth_year\\Computer graphic\\ComputerGraphics\\Exercise3\\helper_classes.py:146\u001B[0m, in \u001B[0;36mRectangle.compute_normal\u001B[1;34m(self)\u001B[0m\n\u001B[0;32m    144\u001B[0m \u001B[38;5;28;01mdef\u001B[39;00m \u001B[38;5;21mcompute_normal\u001B[39m(\u001B[38;5;28mself\u001B[39m):\n\u001B[0;32m    145\u001B[0m     \u001B[38;5;66;03m# TODO\u001B[39;00m\n\u001B[1;32m--> 146\u001B[0m     n \u001B[38;5;241m=\u001B[39m \u001B[43mnp\u001B[49m\u001B[38;5;241;43m.\u001B[39;49m\u001B[43marray\u001B[49m\u001B[43m(\u001B[49m\u001B[43m)\u001B[49m\n\u001B[0;32m    147\u001B[0m     \u001B[38;5;28;01mreturn\u001B[39;00m n\n",
      "\u001B[1;31mTypeError\u001B[0m: array() missing required argument 'object' (pos 0)"
     ]
    }
   ],
   "source": [
    "from hw3 import *\n",
    "\n",
    "rectangle = Rectangle([0,1,-1],[0,-1,-1],[2,-1,-2],[2,1,-2])\n",
    "rectangle.set_material([1, 0, 0], [1, 0, 0], [0, 0, 0], 100, 0.5)\n",
    "plane = Plane([0,0,1], [0,0,-3])\n",
    "plane.set_material([0, 0.5, 0], [0, 1, 0], [1, 1, 1], 100, 0.5)\n",
    "\n",
    "\n",
    "objects = [rectangle,plane]\n",
    "\n",
    "light = DirectionalLight(intensity= np.array([1, 1, 1]),direction=np.array([1,1,1]))\n",
    "\n",
    "lights = [light]\n",
    "\n",
    "ambient = np.array([0.1,0.1,0.1])\n",
    "\n",
    "camera = np.array([0,0,1])\n",
    "\n",
    "im = render_scene(camera, ambient, lights, objects, (256,256), 1)\n",
    "plt.imshow(im)\n",
    "plt.imsave('scene2.png', im)"
   ]
  },
  {
   "attachments": {},
   "cell_type": "markdown",
   "metadata": {},
   "source": [
    "## Scene 3 - Cuboid with Reflections\n",
    "\n",
    "This scene has a Cube with light reflections on plane.\n",
    "\n",
    "![](scenes/scene3.png)"
   ]
  },
  {
   "cell_type": "code",
   "execution_count": null,
   "metadata": {
    "scrolled": true
   },
   "outputs": [],
   "source": [
    "from hw3 import *\n",
    "\n",
    "sphere_a = Sphere([-0.5, 0.2, -1],0.5)\n",
    "sphere_a.set_material([1, 0, 0], [1, 0, 0], [0.3, 0.3, 0.3], 100, 1)\n",
    "\n",
    "cuboid = Cuboid(\n",
    "    [-1, -.75, -2],\n",
    "    [-1,-2, -2],\n",
    "    [ 1,-2, -1.5],\n",
    "    [ 1, -.75, -1.5],\n",
    "    [ 2,-2, -2.5],\n",
    "    [ 2, -.75, -2.5]\n",
    "    )\n",
    "\n",
    "\n",
    "cuboid.set_material([1, 0, 0], [1, 0, 0], [0, 0, 0], 100, 0.5)\n",
    "cuboid.apply_materials_to_faces()\n",
    "\n",
    "sphere_b = Sphere([0.8, 0, -0.5],0.3)\n",
    "sphere_b.set_material([0, 1, 0], [0, 1, 0], [0.3, 0.3, 0.3], 100, 0.2)\n",
    "plane = Plane([0,1,0], [0,-2,0])\n",
    "plane.set_material([0.2, 0.2, 0.2], [0.2, 0.2, 0.2], [1, 1, 1], 1000, 0.5)\n",
    "\n",
    "background = Plane([0,0,1], [0,0,-10])\n",
    "background.set_material([0, 0.5, 0], [0, 1, 0], [1, 1, 1], 100, 0.5)\n",
    "\n",
    "objects = [cuboid,plane,background]\n",
    "\n",
    "light = PointLight(intensity= np.array([1, 1, 1]),position=np.array([2,2,1]),kc=0.1,kl=0.1,kq=0.1)\n",
    "\n",
    "lights = [light]\n",
    "\n",
    "ambient = np.array([0.1,0.2,0.3])\n",
    "\n",
    "camera = np.array([0,0,1])\n",
    "\n",
    "im = render_scene(camera, ambient, lights, objects, (256,256), 3)\n",
    "plt.imshow(im)\n",
    "plt.imsave('scene3.png', im)"
   ]
  },
  {
   "cell_type": "markdown",
   "metadata": {},
   "source": [
    "## Scene 4 - Sphere with reflections\n",
    "\n",
    "This scene has two spheres with different colors.\n",
    "\n",
    "![](scenes/scene4.png)"
   ]
  },
  {
   "cell_type": "code",
   "execution_count": null,
   "metadata": {},
   "outputs": [],
   "source": [
    "from hw3 import *\n",
    "\n",
    "sphere_a = Sphere([-0.5, 0.2, -1],0.5)\n",
    "sphere_a.set_material([1, 0, 0], [1, 0, 0], [0.3, 0.3, 0.3], 100, 1)\n",
    "sphere_b = Sphere([0.8, 0, -0.5],0.3)\n",
    "sphere_b.set_material([0, 1, 0], [0, 1, 0], [0.3, 0.3, 0.3], 100, 0.2)\n",
    "plane = Plane([0,1,0], [0,-0.3,0])\n",
    "plane.set_material([0.2, 0.2, 0.2], [0.2, 0.2, 0.2], [1, 1, 1], 1000, 0.5)\n",
    "background = Plane([0,0,1], [0,0,-3])\n",
    "background.set_material([0.2, 0.2, 0.2], [0.2, 0.2, 0.2], [0.2, 0.2, 0.2], 1000, 0.5)\n",
    "\n",
    "\n",
    "objects = [sphere_a,sphere_b,plane,background]\n",
    "\n",
    "light = PointLight(intensity= np.array([1, 1, 1]),position=np.array([1,1.5,1]),kc=0.1,kl=0.1,kq=0.1)\n",
    "\n",
    "lights = [light]\n",
    "\n",
    "ambient = np.array([0.1,0.2,0.3])\n",
    "\n",
    "camera = np.array([0,0,1])\n",
    "\n",
    "im = render_scene(camera, ambient, lights, objects, (256,256), 3)\n",
    "plt.imshow(im)\n",
    "plt.imsave('scene4.png', im)"
   ]
  },
  {
   "cell_type": "markdown",
   "metadata": {},
   "source": [
    "## Scene 5 - Different Lighting\n",
    "This scene has 3 light sources, each one in different color, and a white background.\n",
    "\n",
    "![](scenes/scene5.png)"
   ]
  },
  {
   "cell_type": "code",
   "execution_count": null,
   "metadata": {},
   "outputs": [],
   "source": [
    "from hw3 import *\n",
    "\n",
    "background = Plane([0,0,1], [0,0,-1])\n",
    "background.set_material([1, 1, 1], [1, 1, 1], [1, 1, 1], 1000, 0.5)\n",
    "\n",
    "\n",
    "objects = [background]\n",
    "\n",
    "light_a = SpotLight(intensity= np.array([0, 0, 1]),position=np.array([0.5,0.5,0]), direction=([0,0,1]),\n",
    "                    kc=0.1,kl=0.1,kq=0.1)\n",
    "light_b = SpotLight(intensity= np.array([0, 1, 0]),position=np.array([-0.5,0.5,0]), direction=([0,0,1]),\n",
    "                    kc=0.1,kl=0.1,kq=0.1)\n",
    "light_c = SpotLight(intensity= np.array([1, 0, 0]),position=np.array([0,-0.5,0]), direction=([0,0,1]),\n",
    "                    kc=0.1,kl=0.1,kq=0.1)\n",
    "\n",
    "lights = [light_a,light_b,light_c]\n",
    "\n",
    "ambient = np.array([0,0,0])\n",
    "\n",
    "camera = np.array([0,0,1])\n",
    "\n",
    "im = render_scene(camera, ambient, lights, objects, (256,256), 3)\n",
    "plt.imshow(im)\n",
    "plt.imsave('scene5.png', im)"
   ]
  },
  {
   "cell_type": "markdown",
   "metadata": {},
   "source": [
    "## Scene 6 - Your own scene!\n",
    "\n",
    "This is your chance to be creative - create an interesting scene!\n",
    "\n",
    "Your scene has to have:\n",
    "- At least 2 different light sources\n",
    "- Plane + At least 2 different 3D Objects\n",
    "\n",
    "Well thought-of scenes may reward bonus points!"
   ]
  },
  {
   "cell_type": "code",
   "execution_count": null,
   "metadata": {},
   "outputs": [],
   "source": [
    "from hw3 import *\n",
    "\n",
    "camera, lights, objects = your_own_scene()\n",
    "\n",
    "im = render_scene(camera, lights, objects, (256,256), 3)\n",
    "plt.imshow(im)\n",
    "plt.imsave('scene6.png', im)"
   ]
  },
  {
   "cell_type": "markdown",
   "metadata": {},
   "source": [
    "## Bonus Points"
   ]
  },
  {
   "cell_type": "markdown",
   "metadata": {},
   "source": [
    "### Refraction\n",
    "\n",
    "Look into Snell’s law: http://en.wikipedia.org/wiki/Snell's_law\n",
    "Refractive index table: http://en.wikipedia.org/wiki/List_of_refractive_indices"
   ]
  },
  {
   "cell_type": "code",
   "execution_count": null,
   "metadata": {},
   "outputs": [],
   "source": []
  }
 ],
 "metadata": {
  "colab": {
   "name": "Exercise 3 - Ray Tracing.ipynb",
   "provenance": []
  },
  "kernelspec": {
   "display_name": "Python 3 (ipykernel)",
   "language": "python",
   "name": "python3"
  },
  "language_info": {
   "codemirror_mode": {
    "name": "ipython",
    "version": 3
   },
   "file_extension": ".py",
   "mimetype": "text/x-python",
   "name": "python",
   "nbconvert_exporter": "python",
   "pygments_lexer": "ipython3",
   "version": "3.9.7"
  }
 },
 "nbformat": 4,
 "nbformat_minor": 1
}
